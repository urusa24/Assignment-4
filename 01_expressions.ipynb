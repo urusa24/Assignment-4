{
  "nbformat": 4,
  "nbformat_minor": 0,
  "metadata": {
    "colab": {
      "provenance": [],
      "authorship_tag": "ABX9TyNnJlE4I3jJNs4RYi5U7OGw",
      "include_colab_link": true
    },
    "kernelspec": {
      "name": "python3",
      "display_name": "Python 3"
    },
    "language_info": {
      "name": "python"
    }
  },
  "cells": [
    {
      "cell_type": "markdown",
      "metadata": {
        "id": "view-in-github",
        "colab_type": "text"
      },
      "source": [
        "<a href=\"https://colab.research.google.com/github/urusa24/Assignment-4/blob/main/01_expressions.ipynb\" target=\"_parent\"><img src=\"https://colab.research.google.com/assets/colab-badge.svg\" alt=\"Open In Colab\"/></a>"
      ]
    },
    {
      "cell_type": "code",
      "execution_count": null,
      "metadata": {
        "colab": {
          "base_uri": "https://localhost:8080/"
        },
        "id": "Qob6-bCV1bP5",
        "outputId": "466bc91e-c597-40fe-cbbf-e99c316da4ec"
      },
      "outputs": [
        {
          "output_type": "stream",
          "name": "stdout",
          "text": [
            "01_dicesimulator\n",
            "die1 in main()start as : 10\n",
            "Total of two dies: 9\n",
            "Total of two dies: 6\n",
            "Total of two dies: 4\n",
            "die1 in main() is : 10\n"
          ]
        }
      ],
      "source": [
        "import random\n",
        "print(\"01_dicesimulator\")\n",
        "\n",
        "def roll_dice():\n",
        "  die1:int = random.randint(1,6)\n",
        "  die2:int = random.randint(1,6)\n",
        "  total:int = die1 + die2\n",
        "  print(f'Total of two dies: {total}')\n",
        "\n",
        "def main():\n",
        "  die1:int = 10\n",
        "  print(\"die1 in main()start as : \" + str(die1))\n",
        "  roll_dice()\n",
        "  roll_dice()\n",
        "  roll_dice()\n",
        "  print(\"die1 in main() is : \" + str(die1))\n",
        "\n",
        "if __name__ == \"__main__\":\n",
        "  main()"
      ]
    },
    {
      "cell_type": "code",
      "source": [
        "print(\"02_e=mc2\")\n",
        "\n",
        "def energy():\n",
        "  c:float = 299792458\n",
        "  m:float = float(input(\"Enter kilos of mass: \"))\n",
        "  print(\"e = (m * (c**2)\")\n",
        "  print(\"Mass = \" + str(m) + \" kg\")\n",
        "  print(\"c = \" + str(c) + \" m/s\")\n",
        "  print(\"e = \" + str(m * c**2) + \"jules\")\n",
        "\n",
        "if __name__ == \"__main__\":\n",
        "  energy()"
      ],
      "metadata": {
        "colab": {
          "base_uri": "https://localhost:8080/"
        },
        "id": "oxhLyx6k38wo",
        "outputId": "19562666-03c3-4cb8-ff78-1a345233c84e"
      },
      "execution_count": null,
      "outputs": [
        {
          "output_type": "stream",
          "name": "stdout",
          "text": [
            "02_e=mc2\n",
            "Enter kilos of mass: 450\n",
            "e = (m * (c**2)\n",
            "Mass = 450.0 kg\n",
            "c = 299792458 m/s\n",
            "e = 4.0443983043156795e+19jules\n"
          ]
        }
      ]
    },
    {
      "cell_type": "code",
      "source": [
        "print(\"03_feet_to_inches\")\n",
        "\n",
        "inch:int = 12\n",
        "\n",
        "def foot():\n",
        "  feet:int = int(input(\"Enter feet: \"))\n",
        "  print(f'There are {inch * feet} inches in {feet} feet.')\n",
        "\n",
        "if __name__ == \"__main__\":\n",
        "  foot()\n",
        "\n"
      ],
      "metadata": {
        "colab": {
          "base_uri": "https://localhost:8080/"
        },
        "id": "0lC_XJmcw1Ho",
        "outputId": "aae1d76f-0f0a-4117-940a-9630b0efb3b0"
      },
      "execution_count": 9,
      "outputs": [
        {
          "output_type": "stream",
          "name": "stdout",
          "text": [
            "03_feet_to_inches\n",
            "Enter feet: 45\n",
            "There are 540 inches in 45 feet.\n"
          ]
        }
      ]
    },
    {
      "cell_type": "code",
      "source": [
        "import math\n",
        "print(\"04_pythagorean_theorem\")\n",
        "\n",
        "def pythagorean():\n",
        "  ab:float = float(input(\"Enter the lenght of side a:  \"))\n",
        "  ac:float = float(input(\"Enter the length of side b:  \"))\n",
        "  bc:float = math.sqrt(ab**2 + ac**2)\n",
        "  print(f'The length of side bc (the hypothenuse is: {bc})')\n",
        "\n",
        "if __name__ == \"__main__\":\n",
        "  pythagorean()\n"
      ],
      "metadata": {
        "colab": {
          "base_uri": "https://localhost:8080/"
        },
        "id": "93BEqL1N0mXF",
        "outputId": "c82c6fc1-e676-4008-9878-0a4dc7a02230"
      },
      "execution_count": 13,
      "outputs": [
        {
          "output_type": "stream",
          "name": "stdout",
          "text": [
            "04_pythagorean_theorem\n",
            "Enter the lenght of side a:  4.5\n",
            "Enter the length of side b:  5.5\n",
            "The length of side bc (the hypothenuse is: 7.106335201775948)\n"
          ]
        }
      ]
    },
    {
      "cell_type": "code",
      "source": [
        "print(\"05_remainder_division\")\n",
        "\n",
        "def remainder():\n",
        "  num1:int = int(input(\"Enter an integer to be divided: \"))\n",
        "  num2:int = int(input(\"Enter an integer to be divided by: \"))\n",
        "  quotient:int = num1 // num2\n",
        "  remainder:int = num1 % num2\n",
        "  print(f'{num1} divided by {num2} is {quotient} with a remainder of {remainder}')\n",
        "\n",
        "if __name__ == \"__main__\":\n",
        "  remainder()"
      ],
      "metadata": {
        "colab": {
          "base_uri": "https://localhost:8080/"
        },
        "id": "lpWzujdb3xb3",
        "outputId": "a10dc542-1698-46a3-9066-7cb9d02aa088"
      },
      "execution_count": 17,
      "outputs": [
        {
          "output_type": "stream",
          "name": "stdout",
          "text": [
            "05_remainder_division\n",
            "Enter an integer to be divided: 45\n",
            "Enter an integer to be divided by: 2\n",
            "45 divided by 2 is 22 with a remainder of 1\n"
          ]
        }
      ]
    },
    {
      "cell_type": "code",
      "source": [
        "import random\n",
        "print(\"06_rolldice\")\n",
        "\n",
        "def dice():\n",
        "  die1:int = random.randint(1,6)\n",
        "  die2:int = random.randint(1,6)\n",
        "  total:int = die1 + die2\n",
        "  print(\"first die: \" + str(die1))\n",
        "  print(\"second die: \" + str(die2))\n",
        "  print(f'Total of two dies: {total}')\n",
        "if __name__ == \"__main__\":\n",
        "  dice()\n",
        ""
      ],
      "metadata": {
        "colab": {
          "base_uri": "https://localhost:8080/"
        },
        "id": "HvMaIgja6bmi",
        "outputId": "1601d660-92ce-491e-f9d2-e589bd565650"
      },
      "execution_count": 18,
      "outputs": [
        {
          "output_type": "stream",
          "name": "stdout",
          "text": [
            "06_rolldice\n",
            "first die: 4\n",
            "second die: 5\n",
            "Total of two dies: 9\n"
          ]
        }
      ]
    },
    {
      "cell_type": "code",
      "source": [
        "print(\"06_seconds_in_year\")\n",
        "\n",
        "days_in_year:int = 365\n",
        "hours_per_day:int = 24\n",
        "minutes_per_hour:int = 60\n",
        "seconds_per_minute:int = 60\n",
        "\n",
        "def seconds():\n",
        "  print(f'There are {days_in_year * hours_per_day * minutes_per_hour * seconds_per_minute} seconds in a year.')\n",
        "\n",
        "if __name__ == \"__main__\":\n",
        "    seconds()"
      ],
      "metadata": {
        "colab": {
          "base_uri": "https://localhost:8080/"
        },
        "id": "HgML98Dv9b2_",
        "outputId": "0472e0b2-7c2c-4c74-cd91-d38e1988772b"
      },
      "execution_count": 19,
      "outputs": [
        {
          "output_type": "stream",
          "name": "stdout",
          "text": [
            "06_seconds_in_year\n",
            "There are 31536000 seconds in a year.\n"
          ]
        }
      ]
    },
    {
      "cell_type": "code",
      "source": [
        "print(\"07_tiny_mad_lib\")\n",
        "\n",
        "def mad_lib():\n",
        "  print(\"Mad Libs\")\n",
        "  noun:str = input(\"Enter a noun: \")\n",
        "  verb:str = input(\"Enter a verb: \")\n",
        "  adjective:str = input(\"Enter an adjective: \")\n",
        "  adverb:str = input(\"Enter an adverb: \")\n",
        "  print(f'Do you {verb} your {adjective} {noun} {adverb}? That\\'s hilarious!')\n",
        "\n",
        "if __name__ == \"__main__\":\n",
        "  mad_lib()"
      ],
      "metadata": {
        "colab": {
          "base_uri": "https://localhost:8080/"
        },
        "id": "Vd2RB0R2_Apl",
        "outputId": "7a33e66e-ef44-47dc-8ef7-1fab859f893f"
      },
      "execution_count": 22,
      "outputs": [
        {
          "output_type": "stream",
          "name": "stdout",
          "text": [
            "07_tiny_mad_lib\n",
            "Mad Libs\n",
            "Enter a noun: cow\n",
            "Enter a verb: grazing\n",
            "Enter an adjective: brown\n",
            "Enter an adverb: quickly\n",
            "Do you grazing your brown cow quickly? That's hilarious!\n"
          ]
        }
      ]
    }
  ]
}