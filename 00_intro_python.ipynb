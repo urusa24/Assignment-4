{
  "nbformat": 4,
  "nbformat_minor": 0,
  "metadata": {
    "colab": {
      "provenance": [],
      "authorship_tag": "ABX9TyNIyuJ3xRb73z3voHupi2Ye",
      "include_colab_link": true
    },
    "kernelspec": {
      "name": "python3",
      "display_name": "Python 3"
    },
    "language_info": {
      "name": "python"
    }
  },
  "cells": [
    {
      "cell_type": "markdown",
      "metadata": {
        "id": "view-in-github",
        "colab_type": "text"
      },
      "source": [
        "<a href=\"https://colab.research.google.com/github/urusa24/Assignment-4/blob/main/00_intro_python.ipynb\" target=\"_parent\"><img src=\"https://colab.research.google.com/assets/colab-badge.svg\" alt=\"Open In Colab\"/></a>"
      ]
    },
    {
      "cell_type": "code",
      "execution_count": null,
      "metadata": {
        "id": "tQNFqn1V_qEX",
        "colab": {
          "base_uri": "https://localhost:8080/"
        },
        "outputId": "f1368c59-26d1-4df5-ca0e-3b84effe7eca"
      },
      "outputs": [
        {
          "output_type": "stream",
          "name": "stdout",
          "text": [
            "01_add_two_numbers\n",
            "This application for add two numbers\n",
            "Enter first number: 7\n",
            "Enter second number: 7\n",
            "The total sum of 7 and 7 is: 14\n"
          ]
        }
      ],
      "source": [
        "print(\"01_add_two_numbers\")\n",
        "\n",
        "def add():\n",
        "  print(\"This application for add two numbers\")\n",
        "  first_number = int(input(\"Enter first number: \"))\n",
        "  second_number = int(input(\"Enter second number: \"))\n",
        "  total= int(first_number) + int(second_number)\n",
        "  print(f'The total sum of {first_number} and {second_number} is: {total}')\n",
        "\n",
        "if __name__ == \"__main__\":\n",
        "  add()"
      ]
    },
    {
      "cell_type": "code",
      "source": [
        "print(\"02_agreement_bot\")\n",
        "def bot():\n",
        "  animal=str(input(\"What is your favourite animal?\"))\n",
        "  print(f'My favourite animal is {animal}!')\n",
        "\n",
        "if __name__ == \"__main__\":\n",
        "  bot()"
      ],
      "metadata": {
        "colab": {
          "base_uri": "https://localhost:8080/"
        },
        "id": "JRUUMnw4FLSH",
        "outputId": "232dd3b6-627f-4275-8368-d338687867ee"
      },
      "execution_count": null,
      "outputs": [
        {
          "output_type": "stream",
          "name": "stdout",
          "text": [
            "02_agreement_bot\n",
            "What is your favourite animal?cat\n",
            "My favourite animal is cat!\n"
          ]
        }
      ]
    },
    {
      "cell_type": "code",
      "source": [
        "print(\"03_fahrenheit_to_celsius\")\n",
        "\n",
        "def temp():\n",
        "    print(\"This code for converting fahrenheit to celsius\")\n",
        "    fahrenheit_degree = float(input(\"Enter the temperature in fahrenheit degree: \"))\n",
        "    celsius_degree = (fahrenheit_degree - 32) * 5.0 / 9.0\n",
        "    print(f'Temperature {fahrenheit_degree} = {celsius_degree} celsius degree')\n",
        "\n",
        "if __name__ == \"__main__\":\n",
        "    temp()\n"
      ],
      "metadata": {
        "colab": {
          "base_uri": "https://localhost:8080/"
        },
        "id": "Af21WVoLGj8I",
        "outputId": "d4194086-530d-4059-afcb-2d59e642335a"
      },
      "execution_count": null,
      "outputs": [
        {
          "output_type": "stream",
          "name": "stdout",
          "text": [
            "03_fahrenheit_to_celsius\n",
            "This code for converting fahrenheit to celsius\n",
            "Enter the temperature in fahrenheit degree: 40\n",
            "Temperature 40.0 = 4.444444444444445 celsius degree\n"
          ]
        }
      ]
    },
    {
      "cell_type": "code",
      "source": [
        "print(\"04_how_old_are_they\")\n",
        "\n",
        "def add_ages():\n",
        "    anton = 21\n",
        "    beth = anton + 6\n",
        "    chen = beth + 20\n",
        "    drew = chen + anton\n",
        "    ethan = chen\n",
        "    return anton, beth, chen, drew, ethan\n",
        "\n",
        "if __name__ == \"__main__\":\n",
        "    anton, beth, chen, drew, ethan = add_ages()\n",
        "\n",
        "    print(\"Anthon is \" + str(anton))\n",
        "    print(\"Beth is \" + str(beth))\n",
        "    print(\"Chen is \" + str(chen))\n",
        "    print(\"Drew is \" + str(drew))\n",
        "    print(\"Ethan is \" + str(ethan))\n"
      ],
      "metadata": {
        "colab": {
          "base_uri": "https://localhost:8080/"
        },
        "id": "g3ES5dcEYbXE",
        "outputId": "e1fae8ff-9e5a-43c7-914e-b7d4eb83f225"
      },
      "execution_count": null,
      "outputs": [
        {
          "output_type": "stream",
          "name": "stdout",
          "text": [
            "04_how_old_are_they\n",
            "Anthon is 21\n",
            "Beth is 27\n",
            "Chen is 47\n",
            "Drew is 68\n",
            "Ethan is 47\n"
          ]
        }
      ]
    },
    {
      "cell_type": "code",
      "source": [
        "print(\"05_triangle_perimeter\")\n",
        "\n",
        "def triangle():\n",
        "    print(\"This code is for calculating perimeter of a triangle\")\n",
        "    side1: float = float(input(\"Enter the length of side 1 : \"))\n",
        "    side2: float = float(input(\"Enter the length of side 2 :\"))\n",
        "    side3: float = float(input(\"Enter the length of side 3 :\"))\n",
        "    perimeter:float = float(side1 + side2 + side3)\n",
        "    print(f'The perimeter of {side1}, {side2} and {side3} of a triangle is : {perimeter}')\n",
        "\n",
        "if __name__ == \"__main__\":\n",
        "    triangle()"
      ],
      "metadata": {
        "colab": {
          "base_uri": "https://localhost:8080/"
        },
        "id": "QFUe4nubphuo",
        "outputId": "3bbe1e62-8ea4-4afa-f03d-b35163a805f4"
      },
      "execution_count": 11,
      "outputs": [
        {
          "output_type": "stream",
          "name": "stdout",
          "text": [
            "05_triangle_perimeter\n",
            "This code for calculating perimeter of a triangle\n",
            "Enter the length of side 1 : 6.5\n",
            "Enter the length of side 2 :3\n",
            "Enter the length of side 3 :4\n",
            "The perimeter of 6.5, 3.0 and 4.0 of a triangle is : 13.5\n"
          ]
        }
      ]
    },
    {
      "cell_type": "code",
      "source": [
        "print(\"06_square_number\")\n",
        "\n",
        "def square():\n",
        "  print(\"This code is for square of given number\")\n",
        "  num1:int = int(input(\"Enter a number to make a square: \"))\n",
        "  square:int = int(num1) ** 2\n",
        "  print(f'The square of {num1} is: {square}')\n",
        "\n",
        "if __name__ == \"__main__\":\n",
        "  square()"
      ],
      "metadata": {
        "colab": {
          "base_uri": "https://localhost:8080/"
        },
        "id": "A1LZ2ALrspZ7",
        "outputId": "3089b624-1f66-4d7b-dcdc-1224735f879d"
      },
      "execution_count": 12,
      "outputs": [
        {
          "output_type": "stream",
          "name": "stdout",
          "text": [
            "06_square_number\n",
            "This code is for square of given number\n",
            "Enter a number to make a square: 8\n",
            "The square of 8 is: 64\n"
          ]
        }
      ]
    }
  ]
}